{
  "nbformat": 4,
  "nbformat_minor": 0,
  "metadata": {
    "colab": {
      "provenance": [],
      "authorship_tag": "ABX9TyPpr6UhGvJvKEO3RXxbPwJA",
      "include_colab_link": true
    },
    "kernelspec": {
      "name": "python3",
      "display_name": "Python 3"
    },
    "language_info": {
      "name": "python"
    }
  },
  "cells": [
    {
      "cell_type": "markdown",
      "metadata": {
        "id": "view-in-github",
        "colab_type": "text"
      },
      "source": [
        "<a href=\"https://colab.research.google.com/github/Doodam/Python/blob/main/py03_conditional.ipynb\" target=\"_parent\"><img src=\"https://colab.research.google.com/assets/colab-badge.svg\" alt=\"Open In Colab\"/></a>"
      ]
    },
    {
      "cell_type": "markdown",
      "source": [
        "# else가 없는 조건문\n",
        "\n",
        "```\n",
        "if 조건식:\n",
        "    조건식이 참일 때 실행할 코드(블록)\n",
        "```\n",
        "\n",
        "* `if 조건식` 뒤에는 반드시 콜론(:)을 사용해야 함.\n",
        "* 코드 블록을 작성할 때 `{}`를 사용하지 않음.\n",
        "* `if` 블록 안의 문장들은 !!!!반드시 같은 크기로!!!! 들여쓰기(indentation)을 해야 함."
      ],
      "metadata": {
        "id": "8taG-habxWWI"
      }
    },
    {
      "cell_type": "code",
      "execution_count": null,
      "metadata": {
        "id": "hBThN-JFxNbX"
      },
      "outputs": [],
      "source": [
        "n = -100"
      ]
    },
    {
      "cell_type": "code",
      "source": [
        "if n > 0:\n",
        "    print('양수')\n",
        "    print('if 블록 끝')\n",
        "print('if 블록 바깥') # if 블록과 상관없이 무조건 실행하는 문장. 탭(들여쓰기) 위치는 중요함!!"
      ],
      "metadata": {
        "colab": {
          "base_uri": "https://localhost:8080/"
        },
        "id": "FK_8ztX9zUwN",
        "outputId": "b4e2c877-efbc-4434-d43c-ef7163ded347"
      },
      "execution_count": null,
      "outputs": [
        {
          "output_type": "stream",
          "name": "stdout",
          "text": [
            "if 블록 바깥\n"
          ]
        }
      ]
    },
    {
      "cell_type": "markdown",
      "source": [
        "## else가 있는 조건문\n",
        "\n",
        "```\n",
        "if 조건식:\n",
        "    참일 때 실행할 코드 블록\n",
        "else:\n",
        "    거짓일 때 실행할 코드 블록\n",
        "```"
      ],
      "metadata": {
        "id": "5015vm3P01pe"
      }
    },
    {
      "cell_type": "code",
      "source": [
        "n = 123\n",
        "if n % 2 == 1:\n",
        "    print('홀수')\n",
        "else:\n",
        "    print('짝수')\n"
      ],
      "metadata": {
        "colab": {
          "base_uri": "https://localhost:8080/"
        },
        "id": "u4YF-wzS1hSy",
        "outputId": "8ae7c0cc-327f-4b3b-cdd4-2f91e6d98cac"
      },
      "execution_count": null,
      "outputs": [
        {
          "output_type": "stream",
          "name": "stdout",
          "text": [
            "홀수\n"
          ]
        }
      ]
    },
    {
      "cell_type": "markdown",
      "source": [
        "파이썬에서 참(True)로 취급하는 값:\n",
        "\n",
        "* 0이 아닌 숫자들.\n",
        "* 1개 이상의 문자를 가지고 있는 문자열.\n",
        "* 1개 이상의 원소를 가지고 있는 리스트(와 비슷한 객체)"
      ],
      "metadata": {
        "id": "5iG-kqss2Rid"
      }
    },
    {
      "cell_type": "markdown",
      "source": [
        "# chained conditional\n",
        "\n",
        "```\n",
        "if 조건식1:\n",
        "    조건식1이 참일 때 실행 할 코드 블록\n",
        "elif 조건식2:\n",
        "    조건식1이 거짓이고, 조건식2가 참일 때 실행할 코드 블록\n",
        "...\n",
        "else:\n",
        "    위의 모든 조건이 거짓일 때 실행할 코드 블록\n",
        "```"
      ],
      "metadata": {
        "id": "KWHdMDyA3Bg1"
      }
    },
    {
      "cell_type": "markdown",
      "source": [
        "Ex1. 정수 3개를 입력받고 변수에 저장. 평균이 90이상이면 'A', 80 이상이면 'B',\n",
        "70 이상이면 'C', 70 미만이면 'F'를 출력."
      ],
      "metadata": {
        "id": "AWWYq5FN4CDd"
      }
    },
    {
      "cell_type": "code",
      "source": [
        "a = int(input('정수 입력>>> '))\n",
        "b = int(input('정수 입력>>> '))\n",
        "c = int(input('정수 입력>>> '))\n",
        "\n",
        "average = (a + b + c) / 3\n",
        "print(f'평균 = {average}')\n",
        "\n",
        "if average >= 90:\n",
        "     print('A')\n",
        "elif average >= 80:\n",
        "     print('B')\n",
        "elif average >= 70:\n",
        "     print('C')\n",
        "else:\n",
        "     print('F')"
      ],
      "metadata": {
        "colab": {
          "base_uri": "https://localhost:8080/"
        },
        "id": "2bqg101P4MGB",
        "outputId": "8afa321f-ea82-4f8d-906b-1a40829ad26c"
      },
      "execution_count": null,
      "outputs": [
        {
          "output_type": "stream",
          "name": "stdout",
          "text": [
            "정수 입력>>> 10\n",
            "정수 입력>>> 20\n",
            "정수 입력>>> 30\n",
            "평균 = 20.0\n",
            "F\n"
          ]
        }
      ]
    }
  ]
}