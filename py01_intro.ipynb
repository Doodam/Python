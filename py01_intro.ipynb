{
  "nbformat": 4,
  "nbformat_minor": 0,
  "metadata": {
    "colab": {
      "provenance": [],
      "authorship_tag": "ABX9TyOYu1aNNF0DR1AtAuqfWWgK",
      "include_colab_link": true
    },
    "kernelspec": {
      "name": "python3",
      "display_name": "Python 3"
    },
    "language_info": {
      "name": "python"
    }
  },
  "cells": [
    {
      "cell_type": "markdown",
      "metadata": {
        "id": "view-in-github",
        "colab_type": "text"
      },
      "source": [
        "<a href=\"https://colab.research.google.com/github/Doodam/Python/blob/main/py01_intro.ipynb\" target=\"_parent\"><img src=\"https://colab.research.google.com/assets/colab-badge.svg\" alt=\"Open In Colab\"/></a>"
      ]
    },
    {
      "cell_type": "markdown",
      "source": [
        "#파이썬 버전 확인"
      ],
      "metadata": {
        "id": "1BKnMBXEX71i"
      }
    },
    {
      "cell_type": "code",
      "source": [
        "!python --version"
      ],
      "metadata": {
        "colab": {
          "base_uri": "https://localhost:8080/"
        },
        "id": "_DfF4C6GXnnq",
        "outputId": "f9d0a730-f551-4ff5-e90d-a004285306c2"
      },
      "execution_count": null,
      "outputs": [
        {
          "output_type": "stream",
          "name": "stdout",
          "text": [
            "Python 3.10.12\n"
          ]
        }
      ]
    },
    {
      "cell_type": "markdown",
      "source": [
        "코드 셀에서 명령창(command prompt)에서 실행하는 명령어를 작성하고 실행할 때는 !로 시작."
      ],
      "metadata": {
        "id": "7RuGi7OJXqtx"
      }
    },
    {
      "cell_type": "markdown",
      "source": [
        "#파이썬 소개"
      ],
      "metadata": {
        "id": "-T02nIjeYKP6"
      }
    },
    {
      "cell_type": "code",
      "source": [
        "# inline comment(주석)\n",
        "print('안녕하세요, Python!')  # 파이썬 문장은 세미콜론을 사용하지 않음."
      ],
      "metadata": {
        "colab": {
          "base_uri": "https://localhost:8080/"
        },
        "id": "E0gAfD8VXsx5",
        "outputId": "acd45161-1a7f-4132-e192-972027125a99"
      },
      "execution_count": null,
      "outputs": [
        {
          "output_type": "stream",
          "name": "stdout",
          "text": [
            "안녕하세요, Python!\n"
          ]
        }
      ]
    },
    {
      "cell_type": "markdown",
      "source": [
        "# 코드셀 실행 방법\n",
        "\n",
        "* 코드셀 왼쪽의 실행 버튼을 클릭\n",
        "* Ctrl+Enter: 현재 포커스가 있는 코드셀을 실행.\n",
        "* Shift+Enter: 현재 포커스가 있는 코드셀을 실행하고, 그 다음 셀로 포커스를 이동.\n",
        "  * 현재 셀 아래에 다음 셀이 없는 경우에는 새로운 코드 셀을 자동으로 만들어 줌.\n",
        "* 런타임 메뉴"
      ],
      "metadata": {
        "id": "P21xnNseZTnK"
      }
    },
    {
      "cell_type": "code",
      "source": [
        "print('Hello, Python!')"
      ],
      "metadata": {
        "colab": {
          "base_uri": "https://localhost:8080/"
        },
        "id": "c3Dg00VZa6MZ",
        "outputId": "bda77b31-88a5-48e3-fc1d-e35a297d15db"
      },
      "execution_count": null,
      "outputs": [
        {
          "output_type": "stream",
          "name": "stdout",
          "text": [
            "Hello, Python!\n"
          ]
        }
      ]
    },
    {
      "cell_type": "markdown",
      "source": [
        "# `print()` 함수"
      ],
      "metadata": {
        "id": "JQsML1Q2bPMi"
      }
    },
    {
      "cell_type": "code",
      "source": [
        "print('Hello', 'Python', '안녕하세요')"
      ],
      "metadata": {
        "colab": {
          "base_uri": "https://localhost:8080/"
        },
        "id": "nXglvFj8cAkg",
        "outputId": "9f00268d-6fc5-4995-dd95-6527e18063d3"
      },
      "execution_count": null,
      "outputs": [
        {
          "output_type": "stream",
          "name": "stdout",
          "text": [
            "Hello Phthon 안녕하세요\n"
          ]
        }
      ]
    },
    {
      "cell_type": "markdown",
      "source": [
        "`print()` 함수의 아규먼트를 여러 개 전달하면, 아규먼트들을 공백으로 연결해서 콘솔에 출력함."
      ],
      "metadata": {
        "id": "PAEsMbRNceLQ"
      }
    },
    {
      "cell_type": "markdown",
      "source": [
        "## `format()` 메서드를 사용한 출력"
      ],
      "metadata": {
        "id": "YPjA6lNgbfvI"
      }
    },
    {
      "cell_type": "code",
      "source": [
        "print('{} + {} = {}'.format(1, 2, 3))"
      ],
      "metadata": {
        "colab": {
          "base_uri": "https://localhost:8080/"
        },
        "id": "S_75F-6sa9yJ",
        "outputId": "cfc69be6-1a93-4096-9005-877c03b5b87b"
      },
      "execution_count": null,
      "outputs": [
        {
          "output_type": "stream",
          "name": "stdout",
          "text": [
            "1 + 2 = 3\n"
          ]
        }
      ]
    },
    {
      "cell_type": "markdown",
      "source": [
        "## formatted string을 사용한 출력\n",
        "\n",
        "Python 3.6 이상의 버전에서 사용할 수 있음."
      ],
      "metadata": {
        "id": "2k4jQMzSde8g"
      }
    },
    {
      "cell_type": "code",
      "source": [
        "# 변수이름 = 값\n",
        "# int x = 1; (JAVA 문법)\n",
        "# const(let) x = 1; (JS 문법)\n",
        "x = 1\n",
        "y = 2\n",
        "print(f'{x} + {y} = {x + y}')"
      ],
      "metadata": {
        "colab": {
          "base_uri": "https://localhost:8080/"
        },
        "id": "30xW16WRdIWV",
        "outputId": "26515c67-435b-4074-cf47-759e5e11df92"
      },
      "execution_count": null,
      "outputs": [
        {
          "output_type": "stream",
          "name": "stdout",
          "text": [
            "1 + 2 = 3\n"
          ]
        }
      ]
    },
    {
      "cell_type": "markdown",
      "source": [
        "## ipynb 노트북에서의 콘솔 출력\n",
        "\n",
        "* 식(expression): 값(value), 변수, 연산, 함수 호출\n",
        "  * x, x + y\n",
        "* 문장(statment): 코드의 최소 실행 단위\n",
        "  * z = x + y, result = add(x, y)\n",
        "* ipynb 노트북 코드셀에서 가장 마지막 줄에 있는 문장이 식(expression)이면, 그 식을 평가한 결과를 콘솔에 출력해 줌.\n",
        "  * 마지막 줄에서는 print() 함수를 호출하지 않아도 출력됨."
      ],
      "metadata": {
        "id": "izufq_O3fDtX"
      }
    },
    {
      "cell_type": "code",
      "source": [
        "x = 1\n",
        "print(x)\n",
        "y = 2\n",
        "print(y)\n",
        "# print(x + y)\n",
        "x + y"
      ],
      "metadata": {
        "colab": {
          "base_uri": "https://localhost:8080/"
        },
        "id": "3dyAyBOJglfP",
        "outputId": "64daa500-6517-4aba-9256-6efccafcd116"
      },
      "execution_count": null,
      "outputs": [
        {
          "output_type": "stream",
          "name": "stdout",
          "text": [
            "1\n",
            "2\n"
          ]
        },
        {
          "output_type": "execute_result",
          "data": {
            "text/plain": [
              "3"
            ]
          },
          "metadata": {},
          "execution_count": 35
        }
      ]
    }
  ]
}