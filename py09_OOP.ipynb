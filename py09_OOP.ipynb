{
  "nbformat": 4,
  "nbformat_minor": 0,
  "metadata": {
    "colab": {
      "provenance": [],
      "authorship_tag": "ABX9TyNo9XAvca7uir3ApMHPaPsO",
      "include_colab_link": true
    },
    "kernelspec": {
      "name": "python3",
      "display_name": "Python 3"
    },
    "language_info": {
      "name": "python"
    }
  },
  "cells": [
    {
      "cell_type": "markdown",
      "metadata": {
        "id": "view-in-github",
        "colab_type": "text"
      },
      "source": [
        "<a href=\"https://colab.research.google.com/github/Doodam/Python/blob/main/py09_OOP.ipynb\" target=\"_parent\"><img src=\"https://colab.research.google.com/assets/colab-badge.svg\" alt=\"Open In Colab\"/></a>"
      ]
    },
    {
      "cell_type": "markdown",
      "source": [
        "# 객체 지향 프로그래밍(OOP: Object-Oriented Programing)\n"
      ],
      "metadata": {
        "id": "OmpTkwgkz6qY"
      }
    },
    {
      "cell_type": "code",
      "execution_count": null,
      "metadata": {
        "id": "SFEvmcAOzw_2"
      },
      "outputs": [],
      "source": [
        "class Student:\n",
        "    # 생성자 함수: 생성자를 호출하면 파이썬 인터프리터에 의해서 자동으로 호출되는 메서드.\n",
        "    def __init__(self, no, name, python, java, javascript):\n",
        "      self.no = no\n",
        "      self.name = name\n",
        "      self.python = python\n",
        "      self.java = java\n",
        "      self.javascript = javascript\n",
        "\n",
        "    def get_total(self):\n",
        "      # 파이썬의 메서드는 멤버들을 접근할 때 반드시 self 키워드를 사용해야 함.\n",
        "      return self.python + self.java + self.javascript\n",
        "\n",
        "    def get_mean(self):\n",
        "      return self.get_total() / 3\n",
        "\n",
        "    def print_info(self):\n",
        "      print(f'Student(번호={self.no}, 이름={self.name}, python={self.python}, java={self.java}, javascript={self.javascript})')"
      ]
    },
    {
      "cell_type": "code",
      "source": [
        "# Student 타입의 객체 생성\n",
        "student1 = Student(1, '홍길동', 100, 90, 50)  # 생성자 호출: 생성자 이름-클래스 이름, new 키워드를 사용하지 않음.\n",
        "\n",
        "print(student1) # 객체 student1을 문자열로 출력"
      ],
      "metadata": {
        "colab": {
          "base_uri": "https://localhost:8080/"
        },
        "id": "xaOnz3LM2CAQ",
        "outputId": "b33c8f8a-358d-4e34-c6e2-fd137f462efb"
      },
      "execution_count": null,
      "outputs": [
        {
          "output_type": "stream",
          "name": "stdout",
          "text": [
            "<__main__.Student object at 0x7f65d6e78430>\n"
          ]
        }
      ]
    },
    {
      "cell_type": "code",
      "source": [
        "student1  # 객체 student1의 식(expression)을 출력"
      ],
      "metadata": {
        "colab": {
          "base_uri": "https://localhost:8080/"
        },
        "id": "4iKJb1Zr4jHh",
        "outputId": "c473fbc9-cce9-4c50-e36e-c25b0676ca89"
      },
      "execution_count": null,
      "outputs": [
        {
          "output_type": "execute_result",
          "data": {
            "text/plain": [
              "<__main__.Student at 0x7f65d6e78430>"
            ]
          },
          "metadata": {},
          "execution_count": 33
        }
      ]
    },
    {
      "cell_type": "code",
      "source": [
        "student1.no"
      ],
      "metadata": {
        "colab": {
          "base_uri": "https://localhost:8080/"
        },
        "id": "r7qt327r7Uo8",
        "outputId": "1b090c36-f4f0-47e0-bbb9-4891a7822d7a"
      },
      "execution_count": null,
      "outputs": [
        {
          "output_type": "execute_result",
          "data": {
            "text/plain": [
              "1"
            ]
          },
          "metadata": {},
          "execution_count": 34
        }
      ]
    },
    {
      "cell_type": "code",
      "source": [
        "student1.name"
      ],
      "metadata": {
        "colab": {
          "base_uri": "https://localhost:8080/",
          "height": 35
        },
        "id": "9yHweskn7Vma",
        "outputId": "6d8deac1-3a83-4942-e976-a4b39bb2a818"
      },
      "execution_count": null,
      "outputs": [
        {
          "output_type": "execute_result",
          "data": {
            "text/plain": [
              "'홍길동'"
            ],
            "application/vnd.google.colaboratory.intrinsic+json": {
              "type": "string"
            }
          },
          "metadata": {},
          "execution_count": 35
        }
      ]
    },
    {
      "cell_type": "code",
      "source": [
        "student1.get_total()"
      ],
      "metadata": {
        "colab": {
          "base_uri": "https://localhost:8080/"
        },
        "id": "N52pnMQY7XDy",
        "outputId": "5745c3e8-76ae-40ad-bd4c-7c31d935bbb1"
      },
      "execution_count": null,
      "outputs": [
        {
          "output_type": "execute_result",
          "data": {
            "text/plain": [
              "240"
            ]
          },
          "metadata": {},
          "execution_count": 36
        }
      ]
    },
    {
      "cell_type": "code",
      "source": [
        "student1.get_mean()"
      ],
      "metadata": {
        "colab": {
          "base_uri": "https://localhost:8080/"
        },
        "id": "VKAtjYm373d-",
        "outputId": "8fd82f02-0e37-4680-af7c-1a6ab7f9e68a"
      },
      "execution_count": null,
      "outputs": [
        {
          "output_type": "execute_result",
          "data": {
            "text/plain": [
              "80.0"
            ]
          },
          "metadata": {},
          "execution_count": 37
        }
      ]
    },
    {
      "cell_type": "code",
      "source": [
        "student1.print_info()"
      ],
      "metadata": {
        "colab": {
          "base_uri": "https://localhost:8080/"
        },
        "id": "_ewS7zrQ8kr9",
        "outputId": "c4e3c7ea-a530-4149-bc80-8fc6a8e53049"
      },
      "execution_count": null,
      "outputs": [
        {
          "output_type": "stream",
          "name": "stdout",
          "text": [
            "Student(번호=1, 이름=홍길동, python=100, java=90, javascript=50)\n"
          ]
        }
      ]
    },
    {
      "cell_type": "code",
      "source": [
        "import math\n",
        "# math 모듈을 임포트 -> math.sqrt()"
      ],
      "metadata": {
        "id": "hTr0LQ_c9Vtb"
      },
      "execution_count": null,
      "outputs": []
    },
    {
      "cell_type": "markdown",
      "source": [
        "* class: Point\n",
        "  * 2차원 평면의 점의 좌표 (x, y)를 표현하는 클래스.\n",
        "* 생성자 함수: x, y를 초기화. x, y의 기본값은 0.\n",
        "* 메서드\n",
        "  * move: 점의 좌표를 원래 위치에서 dx, dy만큼 이동시키는 메서드.\n",
        "  * distance: 현재 점의 위치에서 다른 점까지의 거리를 계산해서 리턴하는 메서드.\n",
        "    * `sqrt((x1 - x2)**2 + (y1 - y2)**2)`\n",
        "\n",
        "  $ \\sqrt{(x_1 - x_2)^2 + (y_1 - y_2)^2} $"
      ],
      "metadata": {
        "id": "GmRi3MZUB3a0"
      }
    },
    {
      "cell_type": "code",
      "source": [
        "class Point:\n",
        "  def __init__(self, x=0, y=0):\n",
        "    self.x = x\n",
        "    self.y = y\n",
        "\n",
        "  def move(self, dx, dy):\n",
        "    self.x += dx\n",
        "    self.y += dy\n",
        "\n",
        "  def distance(self, pt):\n",
        "    return math.sqrt((self.x - pt.x) **2 + (self.y - pt.y) **2)"
      ],
      "metadata": {
        "id": "a7766UV4B2OT"
      },
      "execution_count": null,
      "outputs": []
    },
    {
      "cell_type": "code",
      "source": [
        "pt1 = Point() # 생성자 함수의 default argument 사용\n",
        "pt1"
      ],
      "metadata": {
        "colab": {
          "base_uri": "https://localhost:8080/"
        },
        "id": "g5LCO0QcFqMA",
        "outputId": "7361bb3a-5481-4fd0-bf70-cb732855268e"
      },
      "execution_count": null,
      "outputs": [
        {
          "output_type": "execute_result",
          "data": {
            "text/plain": [
              "<__main__.Point at 0x7f65d6e7a8f0>"
            ]
          },
          "metadata": {},
          "execution_count": 66
        }
      ]
    },
    {
      "cell_type": "code",
      "source": [
        "print(f'x={pt1.x}, y={pt1.y}')"
      ],
      "metadata": {
        "colab": {
          "base_uri": "https://localhost:8080/"
        },
        "id": "jTK0gTAVIblS",
        "outputId": "402a1ebd-b7c8-4ce4-89be-6bc499d42910"
      },
      "execution_count": null,
      "outputs": [
        {
          "output_type": "stream",
          "name": "stdout",
          "text": [
            "x=0, y=0\n"
          ]
        }
      ]
    },
    {
      "cell_type": "code",
      "source": [
        "pt1.move(1, 1)\n",
        "print(f'x={pt1.x}, y={pt1.y}')"
      ],
      "metadata": {
        "colab": {
          "base_uri": "https://localhost:8080/"
        },
        "id": "pvU67jRfJAR2",
        "outputId": "bd884bd6-d027-41c9-a133-b773a9a8e0c7"
      },
      "execution_count": null,
      "outputs": [
        {
          "output_type": "stream",
          "name": "stdout",
          "text": [
            "x=1, y=1\n"
          ]
        }
      ]
    },
    {
      "cell_type": "code",
      "source": [
        "pt2 = Point(1, 2)\n",
        "print(f'x={pt2.x}, y={pt2.y}')"
      ],
      "metadata": {
        "colab": {
          "base_uri": "https://localhost:8080/"
        },
        "id": "aNF7x-tyJPPi",
        "outputId": "562a63f4-af7e-4f87-d50f-4311ac4e2148"
      },
      "execution_count": null,
      "outputs": [
        {
          "output_type": "stream",
          "name": "stdout",
          "text": [
            "x=1, y=2\n"
          ]
        }
      ]
    },
    {
      "cell_type": "code",
      "source": [
        "pt1.distance(pt2)\n"
      ],
      "metadata": {
        "colab": {
          "base_uri": "https://localhost:8080/"
        },
        "id": "9f0dguzAJUHq",
        "outputId": "09e4fc7d-dd2c-45e2-d8a4-add0c5ca3c63"
      },
      "execution_count": null,
      "outputs": [
        {
          "output_type": "execute_result",
          "data": {
            "text/plain": [
              "1.0"
            ]
          },
          "metadata": {},
          "execution_count": 70
        }
      ]
    },
    {
      "cell_type": "markdown",
      "source": [
        "# magic method"
      ],
      "metadata": {
        "id": "9xojO3egOvN4"
      }
    },
    {
      "cell_type": "markdown",
      "source": [
        "모든 클래스가 같은 이름으로 가지고 있는 메서드.\n",
        "\n",
        "특별한 경우에 파이썬 인터프리터에 의해서 호출되는 메서드.\n",
        "\n",
        "* `__init__()`:\n",
        "  * 생성자를 호출하면 자동으로 호출되는 메서드.\n",
        "  * 인스턴스의 필드(프로퍼티)들을 선언하고 초기화하는 메서드.\n",
        "* `__str__()`:\n",
        "  * `print()`함수의 아규먼트 객체일 때 자동으로 호출되는 메서드.\n",
        "  * 문자열을 리턴하는 메서드.\n",
        "* `__reqr__()`: representation.\n",
        "  * 식(expression)을 출력할 때 자동으로 호출되는 메서드.\n",
        "  * `print()` 함수의 동작 방식:\n",
        "    * 객체를 출력하기 위해서, 그 객체의 `__str__()` 메서드를 호출함.\n",
        "    * `__str__()` 메서드가 없는 경우에는, `__repr__()` 메서드를 호출함.\n",
        "    * `__str__()` 메서드와 `__repr__()` 메서드가 모두 없는 경우에는, 기본 문자열 (... object at 0x....)로 출력."
      ],
      "metadata": {
        "id": "n2_oe_myOzAP"
      }
    },
    {
      "cell_type": "code",
      "source": [
        "class T:\n",
        "  def __str__(self):\n",
        "    return 'class T instance'\n",
        "\n",
        "  def __repr__(self):\n",
        "    return 'T'"
      ],
      "metadata": {
        "id": "raGoNz4uRYI3"
      },
      "execution_count": null,
      "outputs": []
    },
    {
      "cell_type": "code",
      "source": [
        "t = T() # 생성자 호출 -> __init__() 메서드 호출"
      ],
      "metadata": {
        "id": "Xp3F8vSGRaJk"
      },
      "execution_count": null,
      "outputs": []
    },
    {
      "cell_type": "code",
      "source": [
        "print(t)  # __str__() 메서드 자동 호출"
      ],
      "metadata": {
        "colab": {
          "base_uri": "https://localhost:8080/"
        },
        "id": "lyBooRydRuKO",
        "outputId": "ea5464dd-5063-473e-9e2c-301bd366a904"
      },
      "execution_count": null,
      "outputs": [
        {
          "output_type": "stream",
          "name": "stdout",
          "text": [
            "class T instance\n"
          ]
        }
      ]
    },
    {
      "cell_type": "code",
      "source": [
        "t # __repr__() 메서드 자동 호출"
      ],
      "metadata": {
        "colab": {
          "base_uri": "https://localhost:8080/"
        },
        "id": "CcMNsVUnSEJk",
        "outputId": "7c3ea2e7-f193-49c2-da42-7e03219038f5"
      },
      "execution_count": null,
      "outputs": [
        {
          "output_type": "execute_result",
          "data": {
            "text/plain": [
              "T"
            ]
          },
          "metadata": {},
          "execution_count": 88
        }
      ]
    },
    {
      "cell_type": "code",
      "source": [],
      "metadata": {
        "id": "k-xHsU8TSe7B"
      },
      "execution_count": null,
      "outputs": []
    },
    {
      "cell_type": "markdown",
      "source": [
        "* `__eq__()`:\n",
        "  * `==` 연산자를 사용했을 때 자동으로 호출되는 메서드.\n",
        "  * 두 객체가 같은 지 (True) 다른 지 (False)를 리턴."
      ],
      "metadata": {
        "id": "ZTwk-6t6T6X-"
      }
    },
    {
      "cell_type": "code",
      "source": [
        "list1 = [1, 2, 3]\n",
        "list2 = [1, 2, 3]\n",
        "list1 == list2  # list 클래스가 __eq__메서드를 구현하고 있기 때문에."
      ],
      "metadata": {
        "colab": {
          "base_uri": "https://localhost:8080/"
        },
        "id": "LWUCbGrnT9Ww",
        "outputId": "851d4621-0842-429f-da3d-64d3bb54cb28"
      },
      "execution_count": null,
      "outputs": [
        {
          "output_type": "execute_result",
          "data": {
            "text/plain": [
              "True"
            ]
          },
          "metadata": {},
          "execution_count": 89
        }
      ]
    },
    {
      "cell_type": "code",
      "source": [
        "class Number:\n",
        "  def __init__(self, n):\n",
        "    self.n = n\n",
        "\n",
        "  def __repr__(self):\n",
        "    return str(self.n)\n",
        "\n",
        "  def __eq__(self, other):\n",
        "    return self.n == other.n"
      ],
      "metadata": {
        "id": "OaAYiy1vVJJ5"
      },
      "execution_count": null,
      "outputs": []
    },
    {
      "cell_type": "code",
      "source": [
        "n1 = Number(1)\n",
        "n1"
      ],
      "metadata": {
        "colab": {
          "base_uri": "https://localhost:8080/"
        },
        "id": "VGzwYuSOVzAy",
        "outputId": "a8682ef2-ebef-425b-a421-578bf7b8b4ae"
      },
      "execution_count": null,
      "outputs": [
        {
          "output_type": "execute_result",
          "data": {
            "text/plain": [
              "1"
            ]
          },
          "metadata": {},
          "execution_count": 96
        }
      ]
    },
    {
      "cell_type": "code",
      "source": [
        "n2 = Number(1)\n",
        "n2"
      ],
      "metadata": {
        "colab": {
          "base_uri": "https://localhost:8080/"
        },
        "id": "AHBf4EW0V1u3",
        "outputId": "0f3c9c12-90fb-4426-86fa-8ee9ea16799a"
      },
      "execution_count": null,
      "outputs": [
        {
          "output_type": "execute_result",
          "data": {
            "text/plain": [
              "1"
            ]
          },
          "metadata": {},
          "execution_count": 102
        }
      ]
    },
    {
      "cell_type": "code",
      "source": [
        "n1 == n2  # n1.__eq__(n2)"
      ],
      "metadata": {
        "colab": {
          "base_uri": "https://localhost:8080/"
        },
        "id": "MtEASEuHV_jA",
        "outputId": "e5881074-143d-4968-9fd6-2905a571a622"
      },
      "execution_count": null,
      "outputs": [
        {
          "output_type": "execute_result",
          "data": {
            "text/plain": [
              "True"
            ]
          },
          "metadata": {},
          "execution_count": 103
        }
      ]
    },
    {
      "cell_type": "markdown",
      "source": [
        "# Exercise\n",
        "\n",
        "* class Score\n",
        "  * 프로퍼티: korean, math, science (int 타입)\n",
        "  * 메서드: `__init__`, `__repr__`, `__eq__`, `get_total`, `get_mean`\n",
        "* class Student\n",
        "  * 프로퍼티: no(int), name(str), score(Score)\n",
        "  * 메서드: `__init__`, `__repr__`"
      ],
      "metadata": {
        "id": "xuOL-fxAoKGN"
      }
    },
    {
      "cell_type": "code",
      "source": [
        "class Score:\n",
        "  def __init__(self, korean=0, math=0, science=0):\n",
        "    self.korean = korean\n",
        "    self.math = math\n",
        "    self.science = science\n",
        "\n",
        "  def __repr__(self):\n",
        "    return f'Score(korean={self.korean}, maht={self.math}, science={self.science})'\n",
        "\n",
        "  def __eq__(self, other): # 한줄로 길게 쓰던지 \\로 쓰면 줄바꿈 가능\n",
        "      return self.korean == other.korean and \\\n",
        "              self.math == other.math and \\\n",
        "              self.science == other.science\n",
        "\n",
        "  def get_total(self):\n",
        "    return self.korean + self.math + self.science\n",
        "\n",
        "  def get_mean(self):\n",
        "    return self.get_total() / 3"
      ],
      "metadata": {
        "id": "y05dfJW3pGTX"
      },
      "execution_count": null,
      "outputs": []
    },
    {
      "cell_type": "code",
      "source": [
        "score1 = Score()\n",
        "score1"
      ],
      "metadata": {
        "colab": {
          "base_uri": "https://localhost:8080/"
        },
        "id": "XKnQ-J2fwcZE",
        "outputId": "ea2e48c0-8f55-4baf-e154-f74f81b2de0d"
      },
      "execution_count": null,
      "outputs": [
        {
          "output_type": "execute_result",
          "data": {
            "text/plain": [
              "Score(korean=0, maht=0, science=0)"
            ]
          },
          "metadata": {},
          "execution_count": 110
        }
      ]
    },
    {
      "cell_type": "code",
      "source": [
        "score2 = Score(90, 80, 50)\n",
        "score2"
      ],
      "metadata": {
        "colab": {
          "base_uri": "https://localhost:8080/"
        },
        "id": "ZAr2-SA9xLOR",
        "outputId": "15651b70-e9ce-49b1-9b8c-3727c31b9ed7"
      },
      "execution_count": null,
      "outputs": [
        {
          "output_type": "execute_result",
          "data": {
            "text/plain": [
              "Score(korean=90, maht=80, science=50)"
            ]
          },
          "metadata": {},
          "execution_count": 111
        }
      ]
    },
    {
      "cell_type": "code",
      "source": [
        "score3 = Score(math=100)\n",
        "score3"
      ],
      "metadata": {
        "colab": {
          "base_uri": "https://localhost:8080/"
        },
        "id": "LBBu5-Q7xLpJ",
        "outputId": "d5d75031-3ebe-4dbc-d9a4-d17c5d58a559"
      },
      "execution_count": null,
      "outputs": [
        {
          "output_type": "execute_result",
          "data": {
            "text/plain": [
              "Score(korean=0, maht=100, science=0)"
            ]
          },
          "metadata": {},
          "execution_count": 112
        }
      ]
    },
    {
      "cell_type": "code",
      "source": [
        "score1 == score2"
      ],
      "metadata": {
        "colab": {
          "base_uri": "https://localhost:8080/"
        },
        "id": "2guV3fNkyBkC",
        "outputId": "8a3d0f08-d2c5-4847-845e-5d009f0f5855"
      },
      "execution_count": null,
      "outputs": [
        {
          "output_type": "execute_result",
          "data": {
            "text/plain": [
              "False"
            ]
          },
          "metadata": {},
          "execution_count": 113
        }
      ]
    },
    {
      "cell_type": "code",
      "source": [
        "score4 = Score(math=80, science=50, korean=90)\n",
        "score4"
      ],
      "metadata": {
        "colab": {
          "base_uri": "https://localhost:8080/"
        },
        "id": "hWqO1houyKEp",
        "outputId": "dafae92f-b0b9-44f8-b343-e2c8cfb0fe03"
      },
      "execution_count": null,
      "outputs": [
        {
          "output_type": "execute_result",
          "data": {
            "text/plain": [
              "Score(korean=90, maht=80, science=50)"
            ]
          },
          "metadata": {},
          "execution_count": 115
        }
      ]
    },
    {
      "cell_type": "code",
      "source": [
        "score2 == score4"
      ],
      "metadata": {
        "colab": {
          "base_uri": "https://localhost:8080/"
        },
        "id": "W2dp6BKLytup",
        "outputId": "fc615113-42bb-48c7-b4ec-0f181f2fa2b3"
      },
      "execution_count": null,
      "outputs": [
        {
          "output_type": "execute_result",
          "data": {
            "text/plain": [
              "True"
            ]
          },
          "metadata": {},
          "execution_count": 116
        }
      ]
    },
    {
      "cell_type": "code",
      "source": [
        "score4.get_total()"
      ],
      "metadata": {
        "colab": {
          "base_uri": "https://localhost:8080/"
        },
        "id": "Lsk6ayW3yw3T",
        "outputId": "730beec1-7f8e-400f-8edc-89e3f20f8adc"
      },
      "execution_count": null,
      "outputs": [
        {
          "output_type": "execute_result",
          "data": {
            "text/plain": [
              "220"
            ]
          },
          "metadata": {},
          "execution_count": 117
        }
      ]
    },
    {
      "cell_type": "code",
      "source": [
        "class Student:\n",
        "  def __init__(self, no, name, score):\n",
        "    self.no = no\n",
        "    self.name = name\n",
        "    self.score = score\n",
        "\n",
        "  def __repr__(self):\n",
        "    return f'Student(no={self.no}, name={self.name}, score={self.score})'"
      ],
      "metadata": {
        "id": "9Eqo1d3zqvuL"
      },
      "execution_count": null,
      "outputs": []
    },
    {
      "cell_type": "code",
      "source": [
        "student1 = Student(1, '오쌤', score1)\n",
        "student1"
      ],
      "metadata": {
        "colab": {
          "base_uri": "https://localhost:8080/"
        },
        "id": "MCAeGx7-zmHc",
        "outputId": "2168c1f8-a23e-43ca-9b24-512e9e91d07f"
      },
      "execution_count": null,
      "outputs": [
        {
          "output_type": "execute_result",
          "data": {
            "text/plain": [
              "Student(no=1, name=오쌤, score=Score(korean=0, maht=0, science=0))"
            ]
          },
          "metadata": {},
          "execution_count": 122
        }
      ]
    },
    {
      "cell_type": "code",
      "source": [
        "student2 = Student(2, '홍길동', Score())\n",
        "student2"
      ],
      "metadata": {
        "colab": {
          "base_uri": "https://localhost:8080/"
        },
        "id": "SZygHSYjz85i",
        "outputId": "a0b26990-4268-47d7-9cd8-685ab3b4f9bb"
      },
      "execution_count": null,
      "outputs": [
        {
          "output_type": "execute_result",
          "data": {
            "text/plain": [
              "Student(no=2, name=홍길동, score=Score(korean=0, maht=0, science=0))"
            ]
          },
          "metadata": {},
          "execution_count": 124
        }
      ]
    },
    {
      "cell_type": "code",
      "source": [
        "student1.score == student2.score\n",
        "# student1.score.__eq__(student2.score)"
      ],
      "metadata": {
        "colab": {
          "base_uri": "https://localhost:8080/"
        },
        "id": "vzb1eJqz0Ykr",
        "outputId": "05887185-75fb-496f-8740-73b7da896484"
      },
      "execution_count": null,
      "outputs": [
        {
          "output_type": "execute_result",
          "data": {
            "text/plain": [
              "True"
            ]
          },
          "metadata": {},
          "execution_count": 125
        }
      ]
    },
    {
      "cell_type": "markdown",
      "source": [
        "# 상속(Inheritance)"
      ],
      "metadata": {
        "id": "jyzh7uYU53wQ"
      }
    },
    {
      "cell_type": "markdown",
      "source": [
        "* super class(상위 클래스), parent class(부모 클래스), base class(기본 클래스)\n",
        "* sub class(하위 클래스), child class(자식 클래스), derived class(유도 클래스)\n",
        "* 상속: 상위 클래스의 속성(데이터)들과 기능(메서드)들을 하위 클래스에서 재상용하는 것.\n",
        "* 일반적으로 **IS-A** 관계가 성립하는 객체들을 상속을 사용해서 구현함.\n",
        "  * 학생은 사람이다(Student IS A Person)."
      ],
      "metadata": {
        "id": "xzt8q-f76DkP"
      }
    },
    {
      "cell_type": "code",
      "source": [
        "class Person:\n",
        "  def __init__(self, name, age=0):\n",
        "    self.name = name\n",
        "    self.age = age\n",
        "\n",
        "  def hello(self):\n",
        "    print(f'안녕하세요. 저는 {self.name}입니다. 나이는 {self.age}입니다.')"
      ],
      "metadata": {
        "id": "prBtNYK_7lA_"
      },
      "execution_count": null,
      "outputs": []
    },
    {
      "cell_type": "code",
      "source": [
        "gildong = Person('홍길동')\n",
        "gildong.hello()"
      ],
      "metadata": {
        "colab": {
          "base_uri": "https://localhost:8080/"
        },
        "id": "A2mOU5dV8jUm",
        "outputId": "811a8b6d-4a27-4f44-9b31-3b24a8c48d7d"
      },
      "execution_count": null,
      "outputs": [
        {
          "output_type": "stream",
          "name": "stdout",
          "text": [
            "안녕하세요. 저는 홍길동입니다. 나이는 0입니다.\n"
          ]
        }
      ]
    },
    {
      "cell_type": "code",
      "source": [
        "# Person을 상속하는 Student 클래스 정의\n",
        "class Student(Person):\n",
        "  # method override\n",
        "  def __init__(self, name, age=0, school='Test'):\n",
        "    # 하위 클래스에서 상위 클래스의 생성자 함수를 호출:\n",
        "    super().__init__(name, age)\n",
        "    self.school = school\n",
        "\n",
        "\n",
        "  # hello method override\n",
        "  def hello(self):\n",
        "    super().hello()\n",
        "    print(f'학교는 {self.school}입니다.')"
      ],
      "metadata": {
        "id": "wzXBkifE9BOd"
      },
      "execution_count": null,
      "outputs": []
    },
    {
      "cell_type": "code",
      "source": [
        "stu = Student(name='오쌤', age=16, school='아이티윌')"
      ],
      "metadata": {
        "id": "xWW4t8BS9djO"
      },
      "execution_count": null,
      "outputs": []
    },
    {
      "cell_type": "code",
      "source": [
        "stu.hello()"
      ],
      "metadata": {
        "colab": {
          "base_uri": "https://localhost:8080/"
        },
        "id": "dc4Af9qB_8Lt",
        "outputId": "2bba8068-53be-46f0-ee1e-de12971b0d66"
      },
      "execution_count": null,
      "outputs": [
        {
          "output_type": "stream",
          "name": "stdout",
          "text": [
            "안녕하세요. 저는 오쌤입니다. 나이는 16입니다.\n",
            "학교는 아이티윌입니다.\n"
          ]
        }
      ]
    },
    {
      "cell_type": "markdown",
      "source": [
        "**Method Override**\n",
        "\n",
        "* 상위 클래스의 메서드를 하위 클래스에서 재정의하는 것.\n",
        "    * 파이썬에서는 메서드의 이름만 같으면 (파라미터 타입/개수와 상관 없이) 메서드가 재정의됨.\n",
        "        * 파이썬은 같은 이름으로 2개 이상의 메서드(함수)를 가질 수 없음 - overloading은 제공하지 않음.\n",
        "    * 자바에서는 메서드 이름, 파라미터 타입/개수/순서가 모두 동일한 경우에 메서드가 재정의됨.\n",
        "        * 파라미터가 다르면 같은 이름의 메서드가 2개 이상 있을 수 있음 - overloading\n",
        "* 하위 클래스에서 재정의(overrid)된 상위 클래스의 메서드를 명시적으로 호출하기 위해서는 `super().method_name(...)`의 형식으로 호출함."
      ],
      "metadata": {
        "id": "a4wv-sVUCtx9"
      }
    },
    {
      "cell_type": "code",
      "source": [
        "def a():\n",
        "    print('a')"
      ],
      "metadata": {
        "id": "6MInC-jgFHMJ"
      },
      "execution_count": null,
      "outputs": []
    },
    {
      "cell_type": "code",
      "source": [
        "def a(msg):\n",
        "    print(msg)"
      ],
      "metadata": {
        "id": "8orOoIr8FP6s"
      },
      "execution_count": null,
      "outputs": []
    },
    {
      "cell_type": "code",
      "source": [
        "a('test')"
      ],
      "metadata": {
        "colab": {
          "base_uri": "https://localhost:8080/"
        },
        "id": "k4Vyzz1ZFf14",
        "outputId": "73a82d90-a1fc-4fe3-f324-67221a19d632"
      },
      "execution_count": null,
      "outputs": [
        {
          "output_type": "stream",
          "name": "stdout",
          "text": [
            "test\n"
          ]
        }
      ]
    },
    {
      "cell_type": "markdown",
      "source": [
        "파이썬은 함수(메서드) 오버로딩을 제공하지 않음.\n",
        "\n",
        "파라미터가 다르다고 해서 같은 이름으로 함수(메서드)를 정의할 수 없음.\n",
        "\n",
        "같은 이름으로 함수를 정의하면, 가장 마지막에서 정의한 함수만 남음.\n",
        "\n",
        "파이썬은 함수(메서드) 오버로딩 대신에, default argument를 이용하면, 같은 이름의 함수를 여러가지 방법으로 호출할 수 있음."
      ],
      "metadata": {
        "id": "vFp9IQ7jGI0b"
      }
    },
    {
      "cell_type": "code",
      "source": [
        "def a(msg='a'):\n",
        "  print(msg)"
      ],
      "metadata": {
        "id": "kLjKELaMGkgP"
      },
      "execution_count": null,
      "outputs": []
    },
    {
      "cell_type": "code",
      "source": [],
      "metadata": {
        "id": "PJ2hFZiBGofI"
      },
      "execution_count": null,
      "outputs": []
    }
  ]
}