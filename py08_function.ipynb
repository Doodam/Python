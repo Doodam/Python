{
  "nbformat": 4,
  "nbformat_minor": 0,
  "metadata": {
    "colab": {
      "provenance": [],
      "authorship_tag": "ABX9TyPeYnGFXUu8IXxXNLQZ+E4P",
      "include_colab_link": true
    },
    "kernelspec": {
      "name": "python3",
      "display_name": "Python 3"
    },
    "language_info": {
      "name": "python"
    }
  },
  "cells": [
    {
      "cell_type": "markdown",
      "metadata": {
        "id": "view-in-github",
        "colab_type": "text"
      },
      "source": [
        "<a href=\"https://colab.research.google.com/github/Doodam/Python/blob/main/py08_function.ipynb\" target=\"_parent\"><img src=\"https://colab.research.google.com/assets/colab-badge.svg\" alt=\"Open In Colab\"/></a>"
      ]
    },
    {
      "cell_type": "markdown",
      "source": [
        "# 1급 객체(first-class object)로서의 함수\n",
        "\n",
        "* 함수는 변수에 할당할 수 있음.\n",
        "* 함수의 파라미터에 아규먼트로 다른 함수를 전달할 수 있음.\n",
        "  * 함수는 아규먼트가 될 수 있음.\n",
        "* 함수는 다른 함수의 리턴 값이 될 수 있음.\n",
        "* 함수 내부에서 다른 함수를 정의할 수 있음."
      ],
      "metadata": {
        "id": "2tzOWNW3xRIX"
      }
    },
    {
      "cell_type": "markdown",
      "source": [
        "# 함수를 변수에 할당"
      ],
      "metadata": {
        "id": "l4mZLC6LyLiu"
      }
    },
    {
      "cell_type": "code",
      "source": [
        "def twice(x):\n",
        "  return 2 * x"
      ],
      "metadata": {
        "id": "NrJnc5fYyLJW"
      },
      "execution_count": null,
      "outputs": []
    },
    {
      "cell_type": "code",
      "execution_count": null,
      "metadata": {
        "colab": {
          "base_uri": "https://localhost:8080/"
        },
        "id": "gN8ZtZ2-w_2d",
        "outputId": "266e8c56-aa3b-4309-cf7c-8fb297969ec5"
      },
      "outputs": [
        {
          "output_type": "execute_result",
          "data": {
            "text/plain": [
              "200"
            ]
          },
          "metadata": {},
          "execution_count": 4
        }
      ],
      "source": [
        "result = twice(100) # 함수 호출 결과(리턴 값)을 변수에 저장.\n",
        "result"
      ]
    },
    {
      "cell_type": "code",
      "source": [
        "double = twice  # 함수 (객체)를 변수에 저장.\n",
        "double"
      ],
      "metadata": {
        "colab": {
          "base_uri": "https://localhost:8080/"
        },
        "id": "p1031PRSyieq",
        "outputId": "a2e11d65-2e4a-44cb-a989-ffb2c50134a0"
      },
      "execution_count": null,
      "outputs": [
        {
          "output_type": "execute_result",
          "data": {
            "text/plain": [
              "<function __main__.twice(x)>"
            ]
          },
          "metadata": {},
          "execution_count": 7
        }
      ]
    },
    {
      "cell_type": "code",
      "source": [
        "double(12)"
      ],
      "metadata": {
        "colab": {
          "base_uri": "https://localhost:8080/"
        },
        "id": "Du3LraAgypiW",
        "outputId": "a026ac1e-d0b0-4b3e-b87e-54ff619e93f6"
      },
      "execution_count": null,
      "outputs": [
        {
          "output_type": "execute_result",
          "data": {
            "text/plain": [
              "24"
            ]
          },
          "metadata": {},
          "execution_count": 10
        }
      ]
    },
    {
      "cell_type": "markdown",
      "source": [
        "## 함수를 아규먼트로 사용"
      ],
      "metadata": {
        "id": "ME47B1Hgy_sN"
      }
    },
    {
      "cell_type": "code",
      "source": [
        "def calculate(x, y, fn):\n",
        "    result = fn(x, y)\n",
        "    return result"
      ],
      "metadata": {
        "id": "AE6mT_Ney9qY"
      },
      "execution_count": null,
      "outputs": []
    },
    {
      "cell_type": "code",
      "source": [
        "def plus(x, y):\n",
        "  return x + y"
      ],
      "metadata": {
        "id": "bj260ISOzKK8"
      },
      "execution_count": null,
      "outputs": []
    },
    {
      "cell_type": "code",
      "source": [
        "calculate(1, 2, plus)"
      ],
      "metadata": {
        "colab": {
          "base_uri": "https://localhost:8080/"
        },
        "id": "I-ZiDYW8zrM4",
        "outputId": "cf5266a5-b2d2-4f9d-a2af-f13ec52bc444"
      },
      "execution_count": null,
      "outputs": [
        {
          "output_type": "execute_result",
          "data": {
            "text/plain": [
              "3"
            ]
          },
          "metadata": {},
          "execution_count": 20
        }
      ]
    },
    {
      "cell_type": "code",
      "source": [
        "def minus(x, y):\n",
        "  return x - y"
      ],
      "metadata": {
        "id": "zwY2vOln0Ljo"
      },
      "execution_count": null,
      "outputs": []
    },
    {
      "cell_type": "code",
      "source": [
        "calculate(1, 2, minus)"
      ],
      "metadata": {
        "colab": {
          "base_uri": "https://localhost:8080/"
        },
        "id": "S7d7q0kN0N4Z",
        "outputId": "fda739e4-60f0-4822-b26a-30ca47aa5479"
      },
      "execution_count": null,
      "outputs": [
        {
          "output_type": "execute_result",
          "data": {
            "text/plain": [
              "-1"
            ]
          },
          "metadata": {},
          "execution_count": 23
        }
      ]
    },
    {
      "cell_type": "markdown",
      "source": [
        "## 내부 함수, 함수 리턴"
      ],
      "metadata": {
        "id": "XsbVLRfz1EP8"
      }
    },
    {
      "cell_type": "code",
      "source": [
        "def make_increment(n):  # 외부 함수\n",
        "  def add_n(x): # 내부 함수. 지역 함수.\n",
        "    return x + n  # 내부 함수는 외부 함수의 지역 변수(파라미터 포함)들을 사용할 수 있음.\n",
        "\n",
        "  return add_n"
      ],
      "metadata": {
        "id": "widJcI6u0SPa"
      },
      "execution_count": null,
      "outputs": []
    },
    {
      "cell_type": "code",
      "source": [
        "increase_by_2 = make_increment(2)\n",
        "increase_by_2"
      ],
      "metadata": {
        "colab": {
          "base_uri": "https://localhost:8080/"
        },
        "id": "Ge6ue0GN1nlk",
        "outputId": "f3a8a03d-31a0-4c85-93f8-56d5867248ad"
      },
      "execution_count": null,
      "outputs": [
        {
          "output_type": "execute_result",
          "data": {
            "text/plain": [
              "<function __main__.make_increment.<locals>.add_n(x)>"
            ]
          },
          "metadata": {},
          "execution_count": 27
        }
      ]
    },
    {
      "cell_type": "code",
      "source": [
        "increase_by_2(100)"
      ],
      "metadata": {
        "id": "9rzGvLTT2MIi"
      },
      "execution_count": null,
      "outputs": []
    },
    {
      "cell_type": "code",
      "source": [
        "increase_by_10 = make_increment(10)\n",
        "increase_by_10(100)"
      ],
      "metadata": {
        "colab": {
          "base_uri": "https://localhost:8080/"
        },
        "id": "a-5ST5dH2zXW",
        "outputId": "08c92e10-3a68-4047-8409-f2add9c1a7c5"
      },
      "execution_count": null,
      "outputs": [
        {
          "output_type": "execute_result",
          "data": {
            "text/plain": [
              "110"
            ]
          },
          "metadata": {},
          "execution_count": 37
        }
      ]
    },
    {
      "cell_type": "code",
      "source": [
        "make_increment(5)(100)"
      ],
      "metadata": {
        "colab": {
          "base_uri": "https://localhost:8080/"
        },
        "id": "GvokDSwf4Gph",
        "outputId": "913b0e55-7b79-43f2-c45a-b9e275cab3ce"
      },
      "execution_count": null,
      "outputs": [
        {
          "output_type": "execute_result",
          "data": {
            "text/plain": [
              "105"
            ]
          },
          "metadata": {},
          "execution_count": 38
        }
      ]
    },
    {
      "cell_type": "markdown",
      "source": [
        "# Lambda expression(람다 표현식)\n",
        "\n",
        "```\n",
        "lamda param1, param2, ...: expression\n",
        "```\n",
        "\n",
        "* 이름이 없는 함수 표기법\n",
        "* 함수 이름 없이 함수의 파라미터 선언과 반환 값 또는 반환 식으로만 함수를 정의하는 방법.\n",
        "* 파이썬은 2줄 이상의 문장이 포함된 람다 표현식 문법을 제공하지 않음."
      ],
      "metadata": {
        "id": "_R1Ofe2h8iC6"
      }
    },
    {
      "cell_type": "code",
      "source": [
        "minus = lambda x, y:x - y\n",
        "minus"
      ],
      "metadata": {
        "colab": {
          "base_uri": "https://localhost:8080/"
        },
        "id": "3U36RfW_9ciH",
        "outputId": "865d1e68-2f53-4465-bf48-8ab4bc59ce26"
      },
      "execution_count": null,
      "outputs": [
        {
          "output_type": "execute_result",
          "data": {
            "text/plain": [
              "<function __main__.<lambda>(x, y)>"
            ]
          },
          "metadata": {},
          "execution_count": 40
        }
      ]
    },
    {
      "cell_type": "code",
      "source": [
        "minus(1, 2)"
      ],
      "metadata": {
        "colab": {
          "base_uri": "https://localhost:8080/"
        },
        "id": "eSDMxuJ09yy8",
        "outputId": "eac5a416-afd7-4353-82e5-c8a9332ba152"
      },
      "execution_count": null,
      "outputs": [
        {
          "output_type": "execute_result",
          "data": {
            "text/plain": [
              "-1"
            ]
          },
          "metadata": {},
          "execution_count": 42
        }
      ]
    },
    {
      "cell_type": "code",
      "source": [
        "calculate(2, 3, lambda x, y:x * y)"
      ],
      "metadata": {
        "colab": {
          "base_uri": "https://localhost:8080/"
        },
        "id": "u15l-ULG-ZSU",
        "outputId": "e60790f5-112f-47d7-cdf8-337a7e47dbe0"
      },
      "execution_count": null,
      "outputs": [
        {
          "output_type": "execute_result",
          "data": {
            "text/plain": [
              "6"
            ]
          },
          "metadata": {},
          "execution_count": 44
        }
      ]
    },
    {
      "cell_type": "markdown",
      "source": [
        "Ex 1. calculate 함수에 2개의 숫자 중에서 더 큰 수를 리턴하는 람다 표현식을 전달"
      ],
      "metadata": {
        "id": "aUpAcAJ1_Xng"
      }
    },
    {
      "cell_type": "code",
      "source": [
        "calculate(3, 2, lambda x, y: x if x > y else y)"
      ],
      "metadata": {
        "colab": {
          "base_uri": "https://localhost:8080/"
        },
        "id": "vPKinUWf_XC4",
        "outputId": "a22aac2e-0655-4390-d0f5-8fbe6ec8531a"
      },
      "execution_count": null,
      "outputs": [
        {
          "output_type": "execute_result",
          "data": {
            "text/plain": [
              "3"
            ]
          },
          "metadata": {},
          "execution_count": 56
        }
      ]
    },
    {
      "cell_type": "markdown",
      "source": [
        "Ex 2. calculate 함수에, 첫번째 아규먼트가 크면 True, 그렇지 않다면 False를 리턴하는 람다 표현식을 전달"
      ],
      "metadata": {
        "id": "tMDC2pNd_dGP"
      }
    },
    {
      "cell_type": "code",
      "source": [
        "calculate(3, 6, lambda x, y:True if x > y else False)"
      ],
      "metadata": {
        "colab": {
          "base_uri": "https://localhost:8080/"
        },
        "id": "vJn4WrABBoxh",
        "outputId": "23ee83c4-7e98-47d5-eb7e-95283f8da77b"
      },
      "execution_count": null,
      "outputs": [
        {
          "output_type": "execute_result",
          "data": {
            "text/plain": [
              "False"
            ]
          },
          "metadata": {},
          "execution_count": 57
        }
      ]
    },
    {
      "cell_type": "code",
      "source": [
        "calculate(3, 6, lambda x, y: x > y)"
      ],
      "metadata": {
        "colab": {
          "base_uri": "https://localhost:8080/"
        },
        "id": "77vct0rO_kQD",
        "outputId": "fc03ed07-e469-41bf-e6f4-11a2c3821221"
      },
      "execution_count": null,
      "outputs": [
        {
          "output_type": "execute_result",
          "data": {
            "text/plain": [
              "False"
            ]
          },
          "metadata": {},
          "execution_count": 58
        }
      ]
    },
    {
      "cell_type": "markdown",
      "source": [
        "## filter 함수\n",
        "\n",
        "조건에 맞는 원소들만 선택."
      ],
      "metadata": {
        "id": "3ovUjx1yCFVR"
      }
    },
    {
      "cell_type": "code",
      "source": [
        "def my_filter(iterable, fn):\n",
        "  \"\"\"\n",
        "  리스트 iterable의 원소들 중에서 함수 fn의 호출 결과 값이 True인 원소들로만 이루어진 리스트를 리턴.\n",
        "\n",
        "  Param iterable: 리스트.\n",
        "  Param fn: 아규먼트가 1개이고, True/False를 리턴하는 함수.\n",
        "  \"\"\"\n",
        "  return [x for x in iterable if fn(x)]\n",
        "  # result = [] # 필터링된 원소들을 저장할 빈 리스트\n",
        "  # for x in iterable:  # 리스트의 원소들을 순서대로 반복하면서\n",
        "  #   if fn(x): # 그 원소를 함수에게 전달했을 때 True를 리턴하면\n",
        "  #     # 필터링 조건을 만족하면\n",
        "  #     result.append(x)  # 결과 리스트에 필터링된 원소를 추가.\n",
        "\n",
        "  # return result # 필터링된 결과를 가지고 있는 리스트를 리턴."
      ],
      "metadata": {
        "id": "nfJwKBw_BupI"
      },
      "execution_count": null,
      "outputs": []
    },
    {
      "cell_type": "code",
      "source": [
        "numbers = [1, -2, 3, 4, -5, -6, 7]\n",
        "my_filter(numbers, lambda x: x > 0)"
      ],
      "metadata": {
        "colab": {
          "base_uri": "https://localhost:8080/"
        },
        "id": "riELfr2hDi4e",
        "outputId": "c4262253-fb35-4e3d-e6aa-df283728b616"
      },
      "execution_count": null,
      "outputs": [
        {
          "output_type": "execute_result",
          "data": {
            "text/plain": [
              "[1, 3, 4, 7]"
            ]
          },
          "metadata": {},
          "execution_count": 75
        }
      ]
    },
    {
      "cell_type": "code",
      "source": [
        "my_filter(numbers, lambda x: x % 2 == 0)"
      ],
      "metadata": {
        "colab": {
          "base_uri": "https://localhost:8080/"
        },
        "id": "zzDMCcmKLXAl",
        "outputId": "af5697a6-5e2b-48c3-e772-dce76c9ebeff"
      },
      "execution_count": null,
      "outputs": [
        {
          "output_type": "execute_result",
          "data": {
            "text/plain": [
              "[-2, 4, -6]"
            ]
          },
          "metadata": {},
          "execution_count": 77
        }
      ]
    },
    {
      "cell_type": "code",
      "source": [
        "strings = ['python', 'java', 'javascript', 'sql']\n",
        "\n",
        "# my_filter 함수를 사용해서 strings에서 5글자 이상인 문자열들만 필터링\n",
        "\n",
        "my_filter(strings, lambda x:len(x) >= 5)\n"
      ],
      "metadata": {
        "colab": {
          "base_uri": "https://localhost:8080/"
        },
        "id": "HAWErRcuMhN6",
        "outputId": "af288d71-6eab-4dce-a524-af9d2c4d48e1"
      },
      "execution_count": null,
      "outputs": [
        {
          "output_type": "execute_result",
          "data": {
            "text/plain": [
              "['python', 'javascript']"
            ]
          },
          "metadata": {},
          "execution_count": 78
        }
      ]
    },
    {
      "cell_type": "markdown",
      "source": [
        "## map 함수\n",
        "\n",
        "원소들을 규칙에 따라서 다른 값으로 변환."
      ],
      "metadata": {
        "id": "YoU3DFO5OB1A"
      }
    },
    {
      "cell_type": "code",
      "source": [
        "def my_mapper(iterable, fn):\n",
        "  \"\"\"\n",
        "  리스트 iterable의 원소들을 함수 fn의 리턴 값으로 변환한 리스트를 리턴.\n",
        "\n",
        "  Param iterable: 리스트.\n",
        "  Param fn: 아규먼트가 1개이고 리턴 값이 있는 함수.\n",
        "  \"\"\"\n",
        "  return [fn(x) for x in iterable]\n",
        "\n",
        "  # result = []\n",
        "  # for x in iterable:\n",
        "  #   result.append(fn(x))\n",
        "\n",
        "  # return result"
      ],
      "metadata": {
        "id": "6ERdqt6nOPhO"
      },
      "execution_count": null,
      "outputs": []
    },
    {
      "cell_type": "code",
      "source": [
        "print(numbers)"
      ],
      "metadata": {
        "colab": {
          "base_uri": "https://localhost:8080/"
        },
        "id": "mymaXs39Ozwy",
        "outputId": "a9f1ce97-fdae-48ca-9228-bcf7ada993c8"
      },
      "execution_count": null,
      "outputs": [
        {
          "output_type": "stream",
          "name": "stdout",
          "text": [
            "[1, -2, 3, 4, -5, -6, 7]\n"
          ]
        }
      ]
    },
    {
      "cell_type": "code",
      "source": [
        "# 리스트 numbers의 원소들의 제곱으로 이루어진 리스트\n",
        "my_mapper(numbers, lambda x:x**2)"
      ],
      "metadata": {
        "colab": {
          "base_uri": "https://localhost:8080/"
        },
        "id": "PIlh2E-iQRZh",
        "outputId": "516bee74-c03b-4d36-c0fb-096535c3f1dc"
      },
      "execution_count": null,
      "outputs": [
        {
          "output_type": "execute_result",
          "data": {
            "text/plain": [
              "[1, 4, 9, 16, 25, 36, 49]"
            ]
          },
          "metadata": {},
          "execution_count": 83
        }
      ]
    },
    {
      "cell_type": "code",
      "source": [
        "# 리스트 numbers의 원소가 짝수이면 'even', 홀수이면 'odd'를 저장하는 리스트\n",
        "my_mapper(numbers, lambda x:'even' if x % 2 == 0 else 'odd')"
      ],
      "metadata": {
        "colab": {
          "base_uri": "https://localhost:8080/"
        },
        "id": "1AzhcBLGQYap",
        "outputId": "701da2a0-afb0-4f19-a027-8a9aeb6a942b"
      },
      "execution_count": null,
      "outputs": [
        {
          "output_type": "execute_result",
          "data": {
            "text/plain": [
              "['odd', 'even', 'odd', 'even', 'odd', 'even', 'odd']"
            ]
          },
          "metadata": {},
          "execution_count": 84
        }
      ]
    },
    {
      "cell_type": "code",
      "source": [
        "strings"
      ],
      "metadata": {
        "colab": {
          "base_uri": "https://localhost:8080/"
        },
        "id": "oFgu529yR-F3",
        "outputId": "e5bc53fd-962d-4238-e227-9c425d72d07a"
      },
      "execution_count": null,
      "outputs": [
        {
          "output_type": "execute_result",
          "data": {
            "text/plain": [
              "['python', 'java', 'javascript', 'sql']"
            ]
          },
          "metadata": {},
          "execution_count": 86
        }
      ]
    },
    {
      "cell_type": "code",
      "source": [
        "# strings가 가지고 있는 문자열의 길이들로 이루어진 리스트\n",
        "my_mapper(strings, lambda x:len(x))"
      ],
      "metadata": {
        "colab": {
          "base_uri": "https://localhost:8080/"
        },
        "id": "9IjRAvSyRym3",
        "outputId": "aa4852e7-a792-4ece-8e20-cbfcaddee015"
      },
      "execution_count": null,
      "outputs": [
        {
          "output_type": "execute_result",
          "data": {
            "text/plain": [
              "[6, 4, 10, 3]"
            ]
          },
          "metadata": {},
          "execution_count": 87
        }
      ]
    },
    {
      "cell_type": "code",
      "source": [
        "# strings의 문자열들을 모두 대문자로 변환한 리스트\n",
        "my_mapper(strings, lambda x:x.upper())"
      ],
      "metadata": {
        "colab": {
          "base_uri": "https://localhost:8080/"
        },
        "id": "zkWclEW1R4XD",
        "outputId": "09de23d1-ed69-40f4-adbd-fd8b2060e17e"
      },
      "execution_count": null,
      "outputs": [
        {
          "output_type": "execute_result",
          "data": {
            "text/plain": [
              "['PYTHON', 'JAVA', 'JAVASCRIPT', 'SQL']"
            ]
          },
          "metadata": {},
          "execution_count": 91
        }
      ]
    }
  ]
}