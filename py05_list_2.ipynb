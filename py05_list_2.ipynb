{
  "nbformat": 4,
  "nbformat_minor": 0,
  "metadata": {
    "colab": {
      "provenance": [],
      "authorship_tag": "ABX9TyPGvX+yqTu7QQbKc7j9nWid",
      "include_colab_link": true
    },
    "kernelspec": {
      "name": "python3",
      "display_name": "Python 3"
    },
    "language_info": {
      "name": "python"
    }
  },
  "cells": [
    {
      "cell_type": "markdown",
      "metadata": {
        "id": "view-in-github",
        "colab_type": "text"
      },
      "source": [
        "<a href=\"https://colab.research.google.com/github/Doodam/Python/blob/main/py05_list_2.ipynb\" target=\"_parent\"><img src=\"https://colab.research.google.com/assets/colab-badge.svg\" alt=\"Open In Colab\"/></a>"
      ]
    },
    {
      "cell_type": "markdown",
      "source": [
        "# List comprehension(리스트 내포)"
      ],
      "metadata": {
        "id": "atwmVAS2tHEp"
      }
    },
    {
      "cell_type": "markdown",
      "source": [
        "1~10 정수들을 순서대로 리스트에 저장: [1, 2, 3, ..., 9, 10]"
      ],
      "metadata": {
        "id": "v42n8lF2tFZZ"
      }
    },
    {
      "cell_type": "code",
      "source": [
        "numbers = []\n",
        "for x in range(1, 11):\n",
        "    numbers.append(x)\n",
        "\n",
        "numbers"
      ],
      "metadata": {
        "colab": {
          "base_uri": "https://localhost:8080/"
        },
        "id": "ae330pYbtNDZ",
        "outputId": "311b8795-904d-454c-a72f-68f710dc1cb7"
      },
      "execution_count": null,
      "outputs": [
        {
          "output_type": "execute_result",
          "data": {
            "text/plain": [
              "[1, 2, 3, 4, 5, 6, 7, 8, 9, 10]"
            ]
          },
          "metadata": {},
          "execution_count": 2
        }
      ]
    },
    {
      "cell_type": "code",
      "source": [
        "numbers = [x for x in range(1, 11)]\n",
        "numbers"
      ],
      "metadata": {
        "colab": {
          "base_uri": "https://localhost:8080/"
        },
        "id": "LaIn07bMtnmz",
        "outputId": "dc262d3b-3412-4509-ae55-8501d1591171"
      },
      "execution_count": null,
      "outputs": [
        {
          "output_type": "execute_result",
          "data": {
            "text/plain": [
              "[1, 2, 3, 4, 5, 6, 7, 8, 9, 10]"
            ]
          },
          "metadata": {},
          "execution_count": 4
        }
      ]
    },
    {
      "cell_type": "code",
      "source": [
        "# [1, 4, 9, 16, ..., 81, 100]\n",
        "squars = [x ** 2 for x in range(1, 11)]\n",
        "squars"
      ],
      "metadata": {
        "colab": {
          "base_uri": "https://localhost:8080/"
        },
        "id": "ZWFfi7E5uIe3",
        "outputId": "824afee6-37e8-4f5d-f2d0-13a52d759c45"
      },
      "execution_count": null,
      "outputs": [
        {
          "output_type": "execute_result",
          "data": {
            "text/plain": [
              "[1, 4, 9, 16, 25, 36, 49, 64, 81, 100]"
            ]
          },
          "metadata": {},
          "execution_count": 6
        }
      ]
    },
    {
      "cell_type": "code",
      "source": [
        "# [0, 10) 범위의 난수 10개를 저장하는 리스트\n",
        "import random\n",
        "\n",
        "numbers = [random.randrange(10) for _ in range(10)]\n",
        "numbers"
      ],
      "metadata": {
        "colab": {
          "base_uri": "https://localhost:8080/"
        },
        "id": "DwrxCJTKuqn-",
        "outputId": "30c03a90-08ab-4840-9a38-3f5e0934376d"
      },
      "execution_count": null,
      "outputs": [
        {
          "output_type": "execute_result",
          "data": {
            "text/plain": [
              "[3, 5, 2, 6, 8, 2, 4, 2, 9, 6]"
            ]
          },
          "metadata": {},
          "execution_count": 8
        }
      ]
    },
    {
      "cell_type": "markdown",
      "source": [
        "py05에 Ex1 ~ Ex5 연습문제를 list comprehension을 사용해서 작성.\n",
        "\n",
        "* filtering\n",
        "\n",
        "  [value for x in iterable if condition]\n",
        "\n",
        "* mapping\n",
        "\n",
        "  [value if condition else value2 for x in iterable]"
      ],
      "metadata": {
        "id": "K25pJ3ePvnfA"
      }
    },
    {
      "cell_type": "markdown",
      "source": [
        "# Ex1\n"
      ],
      "metadata": {
        "id": "gjZXCGrW6QrV"
      }
    },
    {
      "cell_type": "code",
      "source": [
        "\n",
        "numbers = [random.randrange(1, 11) for _ in range(5)]\n",
        "print(f'numbers = {numbers}')\n",
        "\n",
        "total = 0\n",
        "for x in numbers:\n",
        "    total += x\n",
        "\n",
        "print(f'total = {total}')\n",
        "\n",
        "average = total / len(numbers)\n",
        "print(f'average = {average}')\n"
      ],
      "metadata": {
        "colab": {
          "base_uri": "https://localhost:8080/"
        },
        "id": "zuxEH_y3vwxB",
        "outputId": "8d96566f-b331-4097-c166-bcac5e6718ff"
      },
      "execution_count": null,
      "outputs": [
        {
          "output_type": "stream",
          "name": "stdout",
          "text": [
            "numbers = [5, 9, 10, 1, 9]\n",
            "total = 34\n",
            "average = 6.8\n"
          ]
        }
      ]
    },
    {
      "cell_type": "markdown",
      "source": [
        "# Ex2"
      ],
      "metadata": {
        "id": "jTZUN_zx6TrN"
      }
    },
    {
      "cell_type": "code",
      "source": [
        "numbers = [random.randrange(10, 100) for _ in range(10)]\n",
        "print(f'numbers = {numbers}')\n",
        "\n",
        "evens = [x for x in numbers if x % 2 == 0]\n",
        "print(f'evens = {evens}')\n",
        "\n",
        "odds = [x for x in numbers if x % 2]\n",
        "print(f'odds = {odds}')\n"
      ],
      "metadata": {
        "colab": {
          "base_uri": "https://localhost:8080/"
        },
        "id": "mjGz26AgwCir",
        "outputId": "bf603c03-efe6-494f-9b37-f806e27ca82a"
      },
      "execution_count": null,
      "outputs": [
        {
          "output_type": "stream",
          "name": "stdout",
          "text": [
            "numbers = [71, 21, 58, 98, 78, 52, 67, 97, 62, 73]\n",
            "evens = [58, 98, 78, 52, 62]\n",
            "odds = [71, 21, 67, 97, 73]\n"
          ]
        }
      ]
    },
    {
      "cell_type": "markdown",
      "source": [
        "# Ex3"
      ],
      "metadata": {
        "id": "6oJQxWcu6WmN"
      }
    },
    {
      "cell_type": "code",
      "source": [
        "# x = 1\n",
        "# is_positive = True if x > 0 else False   # 삼항 연산자\n",
        "\n",
        "numbers = [random.randrange(-10, 11) for _ in range(10)]\n",
        "print(f'numbers = {numbers}')\n",
        "\n",
        "is_positive = [True if x > 0 else False for x in numbers]  # 삼항 연산자\n",
        "print(f'is_positive = {is_positive}')\n"
      ],
      "metadata": {
        "colab": {
          "base_uri": "https://localhost:8080/"
        },
        "id": "rFq0ia2twaim",
        "outputId": "9f80331e-133d-4ded-ea71-36a5eeb5f77f"
      },
      "execution_count": null,
      "outputs": [
        {
          "output_type": "stream",
          "name": "stdout",
          "text": [
            "numbers = [10, -7, -5, -6, 0, -4, 0, 2, 7, -8]\n",
            "is_positive = [True, False, False, False, False, False, False, True, True, False]\n"
          ]
        }
      ]
    },
    {
      "cell_type": "markdown",
      "source": [
        "# Ex4"
      ],
      "metadata": {
        "id": "YcysR90d6Ybl"
      }
    },
    {
      "cell_type": "code",
      "source": [
        "gender_codes = [random.randrange(0, 2) for _ in range(10)]\n",
        "print(f'gender_codes = {gender_codes}')\n",
        "\n",
        "genders = ['Male' if x == 0 else 'Female' for x in gender_codes]\n",
        "print(f'genders = {genders}')"
      ],
      "metadata": {
        "colab": {
          "base_uri": "https://localhost:8080/"
        },
        "id": "JFk4cs_2wmIh",
        "outputId": "f2960cf7-f3eb-434a-88ec-4d31762b1ee7"
      },
      "execution_count": null,
      "outputs": [
        {
          "output_type": "stream",
          "name": "stdout",
          "text": [
            "gender_codes = [0, 1, 0, 1, 1, 0, 0, 0, 1, 1]\n",
            "genders = ['Male', 'Female', 'Male', 'Female', 'Female', 'Male', 'Male', 'Male', 'Female', 'Female']\n"
          ]
        }
      ]
    },
    {
      "cell_type": "markdown",
      "source": [
        "# Ex5"
      ],
      "metadata": {
        "id": "DrrvGIsT6bO1"
      }
    },
    {
      "cell_type": "code",
      "source": [
        "numbers1 = [random.randrange(100) for _ in range(10)]\n",
        "numbers2 = [random.randrange(100) for _ in range(10)]\n",
        "print(f'numbers1 = {numbers1}')\n",
        "print(f'numbers2 = {numbers2}')\n",
        "\n",
        "multiplication = [x * y for x, y in zip(numbers1, numbers2)]\n",
        "print(f'multiplication = {multiplication}')\n",
        "\n",
        "subtraction = [x - y for x, y in zip(numbers1, numbers2)]\n",
        "print(f'subtraction = {subtraction}')"
      ],
      "metadata": {
        "colab": {
          "base_uri": "https://localhost:8080/"
        },
        "id": "SLInKdRaw0m7",
        "outputId": "225ebee0-a3ce-4911-bb6e-742e9def6969"
      },
      "execution_count": null,
      "outputs": [
        {
          "output_type": "stream",
          "name": "stdout",
          "text": [
            "numbers1 = [83, 66, 63, 27, 8, 56, 53, 27, 97, 6]\n",
            "numbers2 = [70, 10, 94, 18, 27, 50, 15, 22, 53, 78]\n",
            "multiplication = [5810, 660, 5922, 486, 216, 2800, 795, 594, 5141, 468]\n",
            "subtraction = [13, 56, -31, 9, -19, 6, 38, 5, 44, -72]\n"
          ]
        }
      ]
    },
    {
      "cell_type": "code",
      "source": [
        "gender_codes = [1, 2, 1, 2, 3]\n",
        "# 1 -> \"M\", 2 -> \"F\", 3 ->\"Unknown\" mapping\n",
        "genders = ['M' if x == 1 else ('F' if x == 2 else 'Unknown') for x in gender_codes]\n",
        "\n",
        "print(genders)\n"
      ],
      "metadata": {
        "colab": {
          "base_uri": "https://localhost:8080/"
        },
        "id": "E1MuSakoA5Hw",
        "outputId": "54dd9aad-dc63-486d-ffc2-fb99002a2fe4"
      },
      "execution_count": null,
      "outputs": [
        {
          "output_type": "stream",
          "name": "stdout",
          "text": [
            "['M', 'F', 'M', 'F', 'Unknown']\n"
          ]
        }
      ]
    }
  ]
}